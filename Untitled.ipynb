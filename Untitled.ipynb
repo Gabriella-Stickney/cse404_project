{
 "cells": [
  {
   "cell_type": "code",
   "execution_count": 1,
   "id": "05b04807-c0c0-45d0-9d80-9b14119dc963",
   "metadata": {},
   "outputs": [],
   "source": [
    "import numpy as np \n",
    "import pandas as pd"
   ]
  },
  {
   "cell_type": "code",
   "execution_count": 15,
   "id": "6f943ad6-1560-4513-b5d9-a6d4650828b4",
   "metadata": {},
   "outputs": [],
   "source": [
    "df=pd.read_csv('final_df.csv',index_col=0)"
   ]
  },
  {
   "cell_type": "code",
   "execution_count": null,
   "id": "63fc1b50-0d48-47e0-a66b-372106d0b16b",
   "metadata": {},
   "outputs": [],
   "source": []
  }
 ],
 "metadata": {
  "kernelspec": {
   "display_name": "Python 3.11 (default)",
   "language": "python",
   "name": "python3"
  },
  "language_info": {
   "codemirror_mode": {
    "name": "ipython",
    "version": 3
   },
   "file_extension": ".py",
   "mimetype": "text/x-python",
   "name": "python",
   "nbconvert_exporter": "python",
   "pygments_lexer": "ipython3",
   "version": "3.11.6"
  }
 },
 "nbformat": 4,
 "nbformat_minor": 5
}
