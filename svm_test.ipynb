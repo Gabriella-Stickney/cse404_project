{
 "cells": [
  {
   "cell_type": "code",
   "execution_count": 1,
   "id": "9b78482b-3a43-4b65-b4a0-3bf14b1e9021",
   "metadata": {},
   "outputs": [],
   "source": [
    "import pandas as pd\n",
    "from sklearn.feature_extraction.text import TfidfVectorizer\n",
    "from sklearn.model_selection import train_test_split\n",
    "import nltk\n",
    "from nltk.corpus import stopwords"
   ]
  },
  {
   "cell_type": "code",
   "execution_count": 3,
   "id": "9690ebcf-0c85-474b-8b12-fb306f6c3a54",
   "metadata": {},
   "outputs": [],
   "source": [
    "df1 =  pd.read_csv(\"goemotions_1.csv\")\n",
    "df2 =  pd.read_csv(\"goemotions_2.csv\")\n",
    "df3 =  pd.read_csv(\"goemotions_3.csv\")\n",
    "df4 =  pd.read_csv(\"text.csv\")\n",
    "df5 =  pd.read_csv(\"tweet_emotions.csv\")"
   ]
  },
  {
   "cell_type": "code",
   "execution_count": null,
   "id": "6622499c-3d89-4072-bff7-846c9facabb2",
   "metadata": {},
   "outputs": [],
   "source": [
    "#anger, fear, joy, sadness, surprise, love"
   ]
  }
 ],
 "metadata": {
  "kernelspec": {
   "display_name": "Python 3.11 (default)",
   "language": "python",
   "name": "python3"
  },
  "language_info": {
   "codemirror_mode": {
    "name": "ipython",
    "version": 3
   },
   "file_extension": ".py",
   "mimetype": "text/x-python",
   "name": "python",
   "nbconvert_exporter": "python",
   "pygments_lexer": "ipython3",
   "version": "3.11.6"
  }
 },
 "nbformat": 4,
 "nbformat_minor": 5
}
